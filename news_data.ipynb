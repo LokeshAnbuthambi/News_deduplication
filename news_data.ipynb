{
 "cells": [
  {
   "cell_type": "code",
   "execution_count": 1,
   "metadata": {},
   "outputs": [
    {
     "name": "stdout",
     "output_type": "stream",
     "text": [
      "Requirement already satisfied: requests in c:\\users\\welcome\\appdata\\local\\programs\\python\\python312\\lib\\site-packages (2.32.3)\n",
      "Collecting beautifulsoup4\n",
      "  Downloading beautifulsoup4-4.12.3-py3-none-any.whl.metadata (3.8 kB)\n",
      "Requirement already satisfied: scikit-learn in c:\\users\\welcome\\appdata\\local\\programs\\python\\python312\\lib\\site-packages (1.4.2)\n",
      "Requirement already satisfied: nltk in c:\\users\\welcome\\appdata\\local\\programs\\python\\python312\\lib\\site-packages (3.8.1)\n",
      "Requirement already satisfied: charset-normalizer<4,>=2 in c:\\users\\welcome\\appdata\\local\\programs\\python\\python312\\lib\\site-packages (from requests) (3.3.2)\n",
      "Requirement already satisfied: idna<4,>=2.5 in c:\\users\\welcome\\appdata\\local\\programs\\python\\python312\\lib\\site-packages (from requests) (3.6)\n",
      "Requirement already satisfied: urllib3<3,>=1.21.1 in c:\\users\\welcome\\appdata\\local\\programs\\python\\python312\\lib\\site-packages (from requests) (1.26.18)\n",
      "Requirement already satisfied: certifi>=2017.4.17 in c:\\users\\welcome\\appdata\\local\\programs\\python\\python312\\lib\\site-packages (from requests) (2024.2.2)\n",
      "Collecting soupsieve>1.2 (from beautifulsoup4)\n",
      "  Downloading soupsieve-2.6-py3-none-any.whl.metadata (4.6 kB)\n",
      "Requirement already satisfied: numpy>=1.19.5 in c:\\users\\welcome\\appdata\\local\\programs\\python\\python312\\lib\\site-packages (from scikit-learn) (1.26.2)\n",
      "Requirement already satisfied: scipy>=1.6.0 in c:\\users\\welcome\\appdata\\local\\programs\\python\\python312\\lib\\site-packages (from scikit-learn) (1.13.0)\n",
      "Requirement already satisfied: joblib>=1.2.0 in c:\\users\\welcome\\appdata\\local\\programs\\python\\python312\\lib\\site-packages (from scikit-learn) (1.4.2)\n",
      "Requirement already satisfied: threadpoolctl>=2.0.0 in c:\\users\\welcome\\appdata\\local\\programs\\python\\python312\\lib\\site-packages (from scikit-learn) (3.5.0)\n",
      "Requirement already satisfied: click in c:\\users\\welcome\\appdata\\local\\programs\\python\\python312\\lib\\site-packages (from nltk) (8.1.7)\n",
      "Requirement already satisfied: regex>=2021.8.3 in c:\\users\\welcome\\appdata\\local\\programs\\python\\python312\\lib\\site-packages (from nltk) (2024.5.15)\n",
      "Requirement already satisfied: tqdm in c:\\users\\welcome\\appdata\\local\\programs\\python\\python312\\lib\\site-packages (from nltk) (4.66.4)\n",
      "Requirement already satisfied: colorama in c:\\users\\welcome\\appdata\\local\\programs\\python\\python312\\lib\\site-packages (from click->nltk) (0.4.6)\n",
      "Downloading beautifulsoup4-4.12.3-py3-none-any.whl (147 kB)\n",
      "   ---------------------------------------- 0.0/147.9 kB ? eta -:--:--\n",
      "   -------------------------------------- - 143.4/147.9 kB ? eta -:--:--\n",
      "   ---------------------------------------- 147.9/147.9 kB 2.2 MB/s eta 0:00:00\n",
      "Downloading soupsieve-2.6-py3-none-any.whl (36 kB)\n",
      "Installing collected packages: soupsieve, beautifulsoup4\n",
      "Successfully installed beautifulsoup4-4.12.3 soupsieve-2.6\n"
     ]
    },
    {
     "name": "stderr",
     "output_type": "stream",
     "text": [
      "\n",
      "[notice] A new release of pip is available: 24.1.2 -> 24.3.1\n",
      "[notice] To update, run: python.exe -m pip install --upgrade pip\n"
     ]
    }
   ],
   "source": [
    "!pip install requests beautifulsoup4 scikit-learn nltk"
   ]
  },
  {
   "cell_type": "code",
   "execution_count": 2,
   "metadata": {},
   "outputs": [],
   "source": [
    "import requests\n",
    "from bs4 import BeautifulSoup\n",
    "from sklearn.feature_extraction.text import TfidfVectorizer\n",
    "from sklearn.metrics.pairwise import cosine_similarity\n",
    "from sklearn.cluster import KMeans\n",
    "from nltk.tokenize import sent_tokenize\n",
    "from nltk.corpus import stopwords\n",
    "from nltk.probability import FreqDist\n",
    "import nltk"
   ]
  },
  {
   "cell_type": "code",
   "execution_count": 3,
   "metadata": {},
   "outputs": [
    {
     "name": "stderr",
     "output_type": "stream",
     "text": [
      "[nltk_data] Downloading package punkt to\n",
      "[nltk_data]     C:\\Users\\WELCOME\\AppData\\Roaming\\nltk_data...\n",
      "[nltk_data]   Package punkt is already up-to-date!\n",
      "[nltk_data] Downloading package stopwords to\n",
      "[nltk_data]     C:\\Users\\WELCOME\\AppData\\Roaming\\nltk_data...\n",
      "[nltk_data]   Package stopwords is already up-to-date!\n"
     ]
    },
    {
     "data": {
      "text/plain": [
       "True"
      ]
     },
     "execution_count": 3,
     "metadata": {},
     "output_type": "execute_result"
    }
   ],
   "source": [
    "# Download NLTK data files\n",
    "nltk.download('punkt')\n",
    "nltk.download('stopwords')"
   ]
  },
  {
   "cell_type": "code",
   "execution_count": 30,
   "metadata": {},
   "outputs": [],
   "source": [
    "# Function to scrape article content from URL\n",
    "def fetch_article(url):\n",
    "    try:\n",
    "        response = requests.get(url)\n",
    "        soup = BeautifulSoup(response.text, 'html.parser')\n",
    "        paragraphs = soup.find_all('p')\n",
    "        content = \" \".join([p.get_text() for p in paragraphs])\n",
    "        return content\n",
    "    except requests.RequestException as e:\n",
    "        print(f\"Failed to fetch {url}: {e}\")\n",
    "        return None"
   ]
  },
  {
   "cell_type": "code",
   "execution_count": 81,
   "metadata": {},
   "outputs": [],
   "source": [
    "#URL of the news articles\n",
    "urls = [\n",
    "    'https://timesofindia.indiatimes.com/blogs/voices/water-contamination-still-a-serious-national-challenge/',\n",
    "    'https://timesofindia.indiatimes.com/blogs/darksides/the-rising-toll-of-alcohol-addiction-in-goa-a-sobering-reality/',\n",
    "    'https://timesofindia.indiatimes.com/blogs/fireflies-in-the-jar/sip-savor-and-snack-the-art-of-drink-couture/',\n",
    "    'https://timesofindia.indiatimes.com/life-style/health-fitness/health-a-z/alcoholism-/-alcohol-use-disorder/diseasearticle/53598144.cms',\n",
    "    'https://timesofindia.indiatimes.com/city/pune/rising-trend-of-binge-drinking-among-city-youths/articleshow/110547412.cms'\n",
    "]"
   ]
  },
  {
   "cell_type": "code",
   "execution_count": 82,
   "metadata": {},
   "outputs": [],
   "source": [
    "# Step 1: Read the articles and store content\n",
    "articles = [fetch_article(url) for url in urls if fetch_article(url) is not None]"
   ]
  },
  {
   "cell_type": "code",
   "execution_count": 83,
   "metadata": {},
   "outputs": [],
   "source": [
    "# Step 2: Preprocess and vectorize articles\n",
    "stop_words = set(stopwords.words('english'))\n",
    "def preprocess_text(text):\n",
    "    words = text.lower().split()\n",
    "    words = [word for word in words if word not in stop_words]\n",
    "    return ' '.join(words)"
   ]
  },
  {
   "cell_type": "code",
   "execution_count": 84,
   "metadata": {},
   "outputs": [],
   "source": [
    "# Preprocess each article\n",
    "processed_articles = [preprocess_text(article) for article in articles]"
   ]
  },
  {
   "cell_type": "code",
   "execution_count": 85,
   "metadata": {},
   "outputs": [],
   "source": [
    "# Vectorize using TF-IDF\n",
    "vectorizer = TfidfVectorizer()\n",
    "X = vectorizer.fit_transform(processed_articles)"
   ]
  },
  {
   "cell_type": "code",
   "execution_count": 86,
   "metadata": {},
   "outputs": [],
   "source": [
    "# Step 3: Compute similarity\n",
    "similarity_matrix = cosine_similarity(X)"
   ]
  },
  {
   "cell_type": "code",
   "execution_count": 97,
   "metadata": {},
   "outputs": [],
   "source": [
    "# Step 4: Cluster articles\n",
    "num_clusters = 3  # Adjust based on the data\n",
    "kmeans = KMeans(n_clusters=num_clusters, random_state=0)\n",
    "kmeans.fit(X)\n",
    "clusters = kmeans.labels_"
   ]
  },
  {
   "cell_type": "code",
   "execution_count": 98,
   "metadata": {},
   "outputs": [],
   "source": [
    "# Step 5: Summarize articles in each cluster\n",
    "def summarize_text(text):\n",
    "    sentences = sent_tokenize(text)\n",
    "    word_frequencies = FreqDist(word.lower() for word in text.split() if word not in stop_words)\n",
    "    ranking = {sentence: sum(word_frequencies[word.lower()] for word in sentence.split()) for sentence in sentences}\n",
    "    ranked_sentences = sorted(ranking, key=ranking.get, reverse=True)\n",
    "    summary = \" \".join(ranked_sentences[:3])  # Select top sentences as summary\n",
    "    return summary"
   ]
  },
  {
   "cell_type": "code",
   "execution_count": 99,
   "metadata": {},
   "outputs": [],
   "source": [
    "# Organize and summarize each cluster\n",
    "clustered_articles = {}\n",
    "for i in range(num_clusters):\n",
    "    cluster_text = \" \".join([articles[j] for j in range(len(articles)) if clusters[j] == i])\n",
    "    clustered_articles[f'Cluster {i+1}'] = summarize_text(cluster_text)"
   ]
  },
  {
   "cell_type": "code",
   "execution_count": 100,
   "metadata": {},
   "outputs": [
    {
     "name": "stdout",
     "output_type": "stream",
     "text": [
      "\n",
      "Cluster 1 Summary:\n",
      "Well, whether it’s a fruit or a flower, a carafe or a decanter, a goblet or a flute, a straw or a stirrer— one thing’s for sure: their main mission is to make your drink look like it belongs in an art gallery while sneaking in extra layers of flavour and aroma. Chhath puja can safeguard the environment “Dyslexia awareness month: Celebrating strengths and going beyond limitations” Barfi to Baklava Faith and the American promise One more disaster Blowing in the wind The safety net Gaining knowledge via quantum entanglement A journey of love, light and inner transformation British Raj is so yesterday Interested in blogging for timesofindia.com? Next time you raise your glass, remember: it’s not just about the sip, it’s about the experience—the art, the flavour, and the flair that makes your drink a masterpiece in a glass.\n",
      "\n",
      "\n",
      "Cluster 2 Summary:\n",
      "What you see first reveals your outlook towards life The reason why iconic artist MF Hussain agreed to design Shalini Passis' wedding card 10 signs of emotional abuse in a relationship 5 Unique pendants worn by Bollywood actresses over the years Best wedding saris of 2024 Designer Pallavi Mohan files FIR against ex-employees for criminal breach of trust Capturing Ivanka Trump’s 5 best fashion moments Back in Mumbai with Virat Kohli, Anushka Sharma's effortlessly chic style steals the show 5 Radhika Merchant Ambani-inspired lehenga blouses for 2024 wedding season 8 rare qualities of people with beautiful souls Best wedding saris of 2024 8 types of people one should never trust, as per psychology How to know if the Kesar you have bought for your skin is genuine 7 things to know about lighthouse parenting 8 benefits of eating 1 Guava daily Everything you need to know about how to grow your hair faster Top 10 countries with good work-life balance in 2024 ​10 fruits that can cause weight gain​ Melania Trump's gorgeous campaign wardrobe Does the Moon of Uranus have a hidden ocean? THIS push-up test will tell you 6 healthiest leafy vegetables (saag) one must eat in this weather 7 benefits of eating a rainbow diet Ancient lung detox drink for melting mucus and complete cleanse 8 nuts and seeds to boost immunity in winter season 7 surprising health benefits of eating acai berries Best and worst drinks for your children's health Optical Illusion: Only people with high IQ can spot the alien in this wedding picture Optical Illusion: Only a Sherlock Holmes can spot the real killer in 8 seconds Optical Illusion: Can you spot ‘USA’ in this image? WHO says coronavirus still kills 1,700 a week KP.3, the new COVID variant is here: What we know about it till now FLiRT COVID variant cases cross 300 mark in India: Unusual COVID symptoms to know (not cough or cold) After Maharashtra, FLiRT variants identified in Kolkata: COVID symptoms to pay attention to 9 benefits of consuming honey with turmeric 6 homemade drinks to naturally lower uric acid levels 5 things one can do at home to reduce cholesterol level How to get rid of toothache quickly?\n",
      "\n",
      "\n",
      "Cluster 3 Summary:\n",
      "Groundwater contamination is impacting both rural and urban areas.A study by the CPCB reported that 276 districts in India have groundwater contaminated with fluoride, arsenic, and nitrate beyond the permissible limits.Excessive use of chemical fertilizers and pesticides in agriculture contributes to groundwater pollution.Industrial activities release various pollutants into ground water and water bodies, contributing to water pollution.According to the CPCB again, as of 2019, around 351 industrial clusters were identified as critically polluted.Effluents from industries, including chemical plants, tanneries, and textile factories, often contain toxic chemicals and heavy metals, leading to severe contamination.Rural areas also face severe challenges related to water contamination, especially due to open defecation, inadequate sanitation facilities, and agricultural runoff.Many rural communities rely on hand pumps or wells for drinking water, which are susceptible to contamination from nearby sources. As per the Central Pollution Control Board (CPCB), 61 per cent of urban sewage is discharged into rivers and other water bodies without treatment.The Yamuna River in Delhi, for example, receives substantial pollution from domestic sewage and industrial waste, leading to severe contamination.Gangais one of the most polluted rivers in the world.About 80 per cent of the pollution in the river comes from untreated domestic sewage and industrial effluents.According to the CPCB, only 37 out of 222 monitoring stations along the Ganga have water suitable for bathing. Chhath puja can safeguard the environment “Dyslexia awareness month: Celebrating strengths and going beyond limitations” Barfi to Baklava Faith and the American promise One more disaster Blowing in the wind The safety net Gaining knowledge via quantum entanglement A journey of love, light and inner transformation British Raj is so yesterday Interested in blogging for timesofindia.com?\n",
      "\n"
     ]
    }
   ],
   "source": [
    "# Output clustered summaries\n",
    "for cluster, summary in clustered_articles.items():\n",
    "    print(f\"\\n{cluster} Summary:\\n{summary}\\n\")"
   ]
  },
  {
   "cell_type": "code",
   "execution_count": 102,
   "metadata": {},
   "outputs": [
    {
     "data": {
      "text/plain": [
       "{'Cluster 1': 'Well, whether it’s a fruit or a flower, a carafe or a decanter, a goblet or a flute, a straw or a stirrer— one thing’s for sure: their main mission is to make your drink look like it belongs in an art gallery while sneaking in extra layers of flavour and aroma. Chhath puja can safeguard the environment “Dyslexia awareness month: Celebrating strengths and going beyond limitations” Barfi to Baklava Faith and the American promise One more disaster Blowing in the wind The safety net Gaining knowledge via quantum entanglement A journey of love, light and inner transformation British Raj is so yesterday Interested in blogging for timesofindia.com? Next time you raise your glass, remember: it’s not just about the sip, it’s about the experience—the art, the flavour, and the flair that makes your drink a masterpiece in a glass.',\n",
       " 'Cluster 2': \"What you see first reveals your outlook towards life The reason why iconic artist MF Hussain agreed to design Shalini Passis' wedding card 10 signs of emotional abuse in a relationship 5 Unique pendants worn by Bollywood actresses over the years Best wedding saris of 2024 Designer Pallavi Mohan files FIR against ex-employees for criminal breach of trust Capturing Ivanka Trump’s 5 best fashion moments Back in Mumbai with Virat Kohli, Anushka Sharma's effortlessly chic style steals the show 5 Radhika Merchant Ambani-inspired lehenga blouses for 2024 wedding season 8 rare qualities of people with beautiful souls Best wedding saris of 2024 8 types of people one should never trust, as per psychology How to know if the Kesar you have bought for your skin is genuine 7 things to know about lighthouse parenting 8 benefits of eating 1 Guava daily Everything you need to know about how to grow your hair faster Top 10 countries with good work-life balance in 2024 \\u200b10 fruits that can cause weight gain\\u200b Melania Trump's gorgeous campaign wardrobe Does the Moon of Uranus have a hidden ocean? THIS push-up test will tell you 6 healthiest leafy vegetables (saag) one must eat in this weather 7 benefits of eating a rainbow diet Ancient lung detox drink for melting mucus and complete cleanse 8 nuts and seeds to boost immunity in winter season 7 surprising health benefits of eating acai berries Best and worst drinks for your children's health Optical Illusion: Only people with high IQ can spot the alien in this wedding picture Optical Illusion: Only a Sherlock Holmes can spot the real killer in 8 seconds Optical Illusion: Can you spot ‘USA’ in this image? WHO says coronavirus still kills 1,700 a week KP.3, the new COVID variant is here: What we know about it till now FLiRT COVID variant cases cross 300 mark in India: Unusual COVID symptoms to know (not cough or cold) After Maharashtra, FLiRT variants identified in Kolkata: COVID symptoms to pay attention to 9 benefits of consuming honey with turmeric 6 homemade drinks to naturally lower uric acid levels 5 things one can do at home to reduce cholesterol level How to get rid of toothache quickly?\",\n",
       " 'Cluster 3': 'Groundwater contamination is impacting both rural and urban areas.A study by the CPCB reported that 276 districts in India have groundwater contaminated with fluoride, arsenic, and nitrate beyond the permissible limits.Excessive use of chemical fertilizers and pesticides in agriculture contributes to groundwater pollution.Industrial activities release various pollutants into ground water and water bodies, contributing to water pollution.According to the CPCB again, as of 2019, around 351 industrial clusters were identified as critically polluted.Effluents from industries, including chemical plants, tanneries, and textile factories, often contain toxic chemicals and heavy metals, leading to severe contamination.Rural areas also face severe challenges related to water contamination, especially due to open defecation, inadequate sanitation facilities, and agricultural runoff.Many rural communities rely on hand pumps or wells for drinking water, which are susceptible to contamination from nearby sources. As per the Central Pollution Control Board (CPCB), 61 per cent of urban sewage is discharged into rivers and other water bodies without treatment.The Yamuna River in Delhi, for example, receives substantial pollution from domestic sewage and industrial waste, leading to severe contamination.Gangais one of the most polluted rivers in the world.About 80 per cent of the pollution in the river comes from untreated domestic sewage and industrial effluents.According to the CPCB, only 37 out of 222 monitoring stations along the Ganga have water suitable for bathing. Chhath puja can safeguard the environment “Dyslexia awareness month: Celebrating strengths and going beyond limitations” Barfi to Baklava Faith and the American promise One more disaster Blowing in the wind The safety net Gaining knowledge via quantum entanglement A journey of love, light and inner transformation British Raj is so yesterday Interested in blogging for timesofindia.com?'}"
      ]
     },
     "execution_count": 102,
     "metadata": {},
     "output_type": "execute_result"
    }
   ],
   "source": [
    "clustered_articles"
   ]
  }
 ],
 "metadata": {
  "kernelspec": {
   "display_name": "Python 3",
   "language": "python",
   "name": "python3"
  },
  "language_info": {
   "codemirror_mode": {
    "name": "ipython",
    "version": 3
   },
   "file_extension": ".py",
   "mimetype": "text/x-python",
   "name": "python",
   "nbconvert_exporter": "python",
   "pygments_lexer": "ipython3",
   "version": "3.12.3"
  }
 },
 "nbformat": 4,
 "nbformat_minor": 2
}
